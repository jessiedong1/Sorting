{
  "nbformat": 4,
  "nbformat_minor": 0,
  "metadata": {
    "colab": {
      "name": "Sorting.ipynb",
      "provenance": [],
      "authorship_tag": "ABX9TyOSUhyrTI8miv6pslVcqvHA",
      "include_colab_link": true
    },
    "kernelspec": {
      "name": "python3",
      "display_name": "Python 3"
    }
  },
  "cells": [
    {
      "cell_type": "markdown",
      "metadata": {
        "id": "view-in-github",
        "colab_type": "text"
      },
      "source": [
        "<a href=\"https://colab.research.google.com/github/jessiedong1/Sorting/blob/master/Sorting.ipynb\" target=\"_parent\"><img src=\"https://colab.research.google.com/assets/colab-badge.svg\" alt=\"Open In Colab\"/></a>"
      ]
    },
    {
      "cell_type": "markdown",
      "metadata": {
        "id": "jbylcmzk1131",
        "colab_type": "text"
      },
      "source": [
        "Sorting algorithms\n",
        "\n",
        "\n",
        "*   Bubble Sort\n",
        "*   Merge Sort\n",
        "*   Quick Sort\n",
        "\n",
        "\n",
        "\n"
      ]
    },
    {
      "cell_type": "markdown",
      "metadata": {
        "id": "wEErsHLd3yTp",
        "colab_type": "text"
      },
      "source": [
        ""
      ]
    },
    {
      "cell_type": "markdown",
      "metadata": {
        "id": "YONiSsw82Rkp",
        "colab_type": "text"
      },
      "source": [
        "Bubble Sort\n",
        "\n",
        "*   A naive approach to sort\n",
        "*   Time complexity is O(n^2)\n",
        "*   Space complexity is O(1) -- No extra space is needed\n",
        "\n",
        "\n"
      ]
    },
    {
      "cell_type": "code",
      "metadata": {
        "id": "LMTgI6011xYs",
        "colab_type": "code",
        "colab": {
          "base_uri": "https://localhost:8080/",
          "height": 170
        },
        "outputId": "f3d8ffff-0520-42d4-e7a4-8628ce44b127"
      },
      "source": [
        "def bubble_sort(input_array):\n",
        "    if len(input_array) >1:\n",
        "      while True:\n",
        "          n = 0\n",
        "          for i in range(0, len(input_array)-1):\n",
        "              if(input_array[i] > input_array[i+1]):\n",
        "                  n = n+1\n",
        "                  temp = input_array[i]\n",
        "                  input_array[i] = input_array[i+1]\n",
        "                  input_array[i+1] = temp\n",
        "          if n == 0:\n",
        "              return input_array\n",
        "                  \n",
        "input_array= [21,4,1,3,9,20,25,6,21,14]\n",
        "input_array = bubble_sort(input_array)\n",
        "# input_array = bubble_sort(input_array)\n",
        "# input_array = bubble_sort(input_array)\n",
        "print(input_array)\n"
      ],
      "execution_count": null,
      "outputs": [
        {
          "output_type": "stream",
          "text": [
            "0\n",
            "0\n",
            "0\n",
            "0\n",
            "0\n",
            "0\n",
            "0\n",
            "0\n",
            "[4, 1, 3, 9, 20, 21, 6, 21, 14, 25]\n"
          ],
          "name": "stdout"
        }
      ]
    },
    {
      "cell_type": "markdown",
      "metadata": {
        "id": "ZZBEki249iYC",
        "colab_type": "text"
      },
      "source": [
        "Merge Sort \n",
        "\n",
        "*   Time complexity is O(nlogn)\n",
        "*   Space complexity is O(n)\n",
        "\n"
      ]
    },
    {
      "cell_type": "code",
      "metadata": {
        "id": "f7mswE529yHR",
        "colab_type": "code",
        "colab": {
          "base_uri": "https://localhost:8080/",
          "height": 34
        },
        "outputId": "9d763127-b5db-43c1-9c8d-6fa7e3a3c054"
      },
      "source": [
        "def merge_sort(input_array):\n",
        "    if len(input_array) > 1 :\n",
        "      left = input_array[0:int(len(input_array)/2)]\n",
        "      right = input_array[int(len(input_array)/2): len(input_array)]\n",
        "      merge_sort(left)\n",
        "      merge_sort(right)\n",
        "      i = j = k = 0\n",
        "      while i < len(left) and j < len(right):\n",
        "        if left[i] < right[j]:\n",
        "          input_array[k] = left[i]\n",
        "          i += 1       \n",
        "        else:\n",
        "          input_array[k] = right[j]\n",
        "          j += 1\n",
        "        k = k +1\n",
        "      while i < len(left):\n",
        "        input_array[k] = left[i]\n",
        "        i += 1\n",
        "        k += 1\n",
        "      while j < len(right):\n",
        "        input_array[k] = right[j]\n",
        "        j += 1\n",
        "        k += 1\n",
        "\n",
        "    return input_array\n",
        "input_array= [21,4,1,3,9,20,25,6,21,14]\n",
        "input_array = merge_sort(input_array)\n",
        "print(input_array)\n"
      ],
      "execution_count": null,
      "outputs": [
        {
          "output_type": "stream",
          "text": [
            "[1, 3, 4, 6, 9, 14, 20, 21, 21, 25]\n"
          ],
          "name": "stdout"
        }
      ]
    },
    {
      "cell_type": "markdown",
      "metadata": {
        "id": "rlEnZdsm6grE",
        "colab_type": "text"
      },
      "source": [
        "Quick Sort"
      ]
    },
    {
      "cell_type": "code",
      "metadata": {
        "id": "1ZcHDRYG33wt",
        "colab_type": "code",
        "colab": {
          "base_uri": "https://localhost:8080/",
          "height": 34
        },
        "outputId": "0a0bcc79-8679-4bce-e593-06685be49e44"
      },
      "source": [
        "\"\"\"Implement quick sort in Python.\n",
        "Input a list.\n",
        "Output a sorted list.\"\"\"\n",
        "def partition(array,low,high):\n",
        "    povit = array[high]\n",
        "    povit_position = high\n",
        "    position = low\n",
        "    while position < povit_position:\n",
        "      if array[position] > array[povit_position]: \n",
        "          temp = array[position]\n",
        "          array[position] = array[povit_position-1]\n",
        "          array[povit_position-1] = povit\n",
        "          array[povit_position] = temp\n",
        "          povit_position = povit_position-1\n",
        "      else:\n",
        "          position += 1\n",
        "    return povit_position\n",
        "def quicksort(array,low,high):\n",
        "    if low<high:\n",
        "      part_position = partition(array, low,high)\n",
        "      \n",
        "      quicksort(array,low,part_position-1)\n",
        "      quicksort(array,part_position+1,high)\n",
        "\n",
        "    return array\n",
        "#test = [21, 4, 1, 3, 9, 20, 25, 6, 21, 14]\n",
        "test =[8,3,1,7,0,10,2]\n",
        "print(quicksort(test,0,len(test)-1))"
      ],
      "execution_count": null,
      "outputs": [
        {
          "output_type": "stream",
          "text": [
            "[0, 1, 2, 3, 7, 8, 10]\n"
          ],
          "name": "stdout"
        }
      ]
    },
    {
      "cell_type": "markdown",
      "metadata": {
        "id": "P7NZuSnOEl2e",
        "colab_type": "text"
      },
      "source": [
        "Maps"
      ]
    },
    {
      "cell_type": "code",
      "metadata": {
        "id": "7xTMiRCTEm8W",
        "colab_type": "code",
        "colab": {
          "base_uri": "https://localhost:8080/",
          "height": 85
        },
        "outputId": "225706f8-1076-4455-9d83-56bd7943827c"
      },
      "source": [
        "\"\"\"Time to play with Python dictionaries!\n",
        "You're going to work on a dictionary that\n",
        "stores cities by country and continent.\n",
        "One is done for you - the city of Mountain \n",
        "View is in the USA, which is in North America.\n",
        "\n",
        "You need to add the cities listed below by\n",
        "modifying the structure.\n",
        "Then, you should print out the values specified\n",
        "by looking them up in the structure.\n",
        "\n",
        "Cities to add:\n",
        "Bangalore (India, Asia)\n",
        "Atlanta (USA, North America)\n",
        "Cairo (Egypt, Africa)\n",
        "Shanghai (China, Asia)\"\"\"\n",
        "\n",
        "locations = {'North America': {'USA': ['Mountain View']}}\n",
        "locations['North America']['USA'].append('Atlanta')\n",
        "locations['Asia']= {'India':['Bangalore']}\n",
        "locations['Africa'] = {'Egypt': ['Cairo']}\n",
        "locations['Asia'].update({'China':['Shanghai']})\n",
        "\n",
        "# locations['Africa'] = {'Egypt': ['Cairo']}\n",
        "# locations['Asia']['China'] = 'Shanghai'\n",
        "\n",
        "for us_city in sorted(locations['North America']['USA']):\n",
        "    print(us_city)\n",
        "asia_citys = []\n",
        "for country, city in locations['Asia'].items():\n",
        "    city_country = city[0] + ' - ' + country\n",
        "    asia_citys.append(city_country)\n",
        "\n",
        "for as_city in sorted(asia_citys):\n",
        "    print(as_city)\n",
        "\n",
        "# for key, value in locations['Asia'].items:\n",
        "#     print(key,' - ',value)\n",
        "# Print the following (using \"print\").\n",
        "# 1. A list of all cities in the USA in\n",
        "# alphabetic order.\n",
        "# 2. All cities in Asia, in alphabetic\n",
        "# order, next to the name of the country.\n",
        "# In your output, label each answer with a number\n",
        "# so it looks like this:\n",
        "# 1\n",
        "# American City\n",
        "# American City\n",
        "# 2\n",
        "# Asian City - Country\n",
        "# Asian City - Country"
      ],
      "execution_count": null,
      "outputs": [
        {
          "output_type": "stream",
          "text": [
            "Atlanta\n",
            "Mountain View\n",
            "Bangalore - India\n",
            "Shanghai - China\n"
          ],
          "name": "stdout"
        }
      ]
    }
  ]
}